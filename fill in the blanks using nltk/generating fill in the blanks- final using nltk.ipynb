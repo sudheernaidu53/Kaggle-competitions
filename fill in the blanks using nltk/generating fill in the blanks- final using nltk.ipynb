{
 "cells": [
  {
   "cell_type": "markdown",
   "metadata": {},
   "source": [
    "This file is to create fill in the blanks.  \n",
    "the blanks created are nouns. which are predominant in schools (in geography,history,science)"
   ]
  },
  {
   "cell_type": "markdown",
   "metadata": {},
   "source": [
    "**import important tools**  \n",
    "`pos_tag` tags each word as a parts of speech tag  \n",
    "`word_tokenize` tokenizes words in a sentence  \n",
    "`sent_tokenize` tokenizes sentences from a text  \n",
    "`re` is regular expression library  \n",
    "`random` library is to randomize things"
   ]
  },
  {
   "cell_type": "code",
   "execution_count": 16,
   "metadata": {},
   "outputs": [],
   "source": [
    "from nltk import pos_tag, word_tokenize, sent_tokenize\n",
    "import re\n",
    "import random\n",
    "from collections import defaultdict"
   ]
  },
  {
   "cell_type": "code",
   "execution_count": 43,
   "metadata": {},
   "outputs": [],
   "source": [
    "'''\n",
    "function to clean the input paragraph or paragraphs and returning sentense_wise tagged words\n",
    "cleaning has to be done as '[' , ']' , '@'.. are tagged as nouns. and this program is to build blanks with nouns only\n",
    "'''\n",
    "def clean_and_tag(paragraph):\n",
    "    # cleaning\n",
    "    para = re.sub(r'[^a-zA-Z0-9 .-]','',paragraph)\n",
    "    #dictionary for all sentences\n",
    "    tags_dict_sentences = defaultdict(list)\n",
    "    for sentence in sent_tokenize(para):\n",
    "        # tagging each word in the current sentence and creating a dictionary out of em\n",
    "        # actually it's enough just to care about 'NNP' and 'NN'\n",
    "        temp_tags = pos_tag(word_tokenize(sentence))\n",
    "        tags_dict = defaultdict(list)\n",
    "        tags_dict_sentences[sentence] = tags_dict\n",
    "        for i in ((temp_tags)):\n",
    "            tags_dict[i[1]].append(i[0])\n",
    "    return tags_dict_sentences"
   ]
  },
  {
   "cell_type": "code",
   "execution_count": 19,
   "metadata": {},
   "outputs": [],
   "source": [
    "'''\n",
    "function to replace a word with a blank\n",
    "'''\n",
    "def replaceblank(word, sentence):\n",
    "    #uses regex to replace a word with a blank\n",
    "    temp = re.compile(re.escape(word), re.IGNORECASE)\n",
    "    return temp.sub('__________________', sentence)"
   ]
  },
  {
   "cell_type": "code",
   "execution_count": 21,
   "metadata": {},
   "outputs": [],
   "source": [
    "'''\n",
    "function to basically remove a word and replace it with a blank if possible\n",
    "As most of the geography, history, science books revolve around nouns, most fill in \n",
    "the blanks are nouns.\n",
    "if you want to teach children english, you can pick adjectives or verbs as well\n",
    "'''\n",
    "def removeWord(sentence, tags_dict):\n",
    "    #select only nouns\n",
    "    words = None\n",
    "    if 'NNP' in tags_dict:\n",
    "        words = tags_dict['NNP']\n",
    "    elif 'NN' in tags_dict:\n",
    "        words = tags_dict['NN']\n",
    "    else:\n",
    "        print(\"NN and NNP not found\")\n",
    "        return (None, sentence, None)\n",
    "    if len(words) > 0:\n",
    "        # randomly choose a word, if there is a score of NNP, we can choose the \n",
    "        # best word with that\n",
    "        word = random.choice(words)\n",
    "        replaced = replaceblank(word, sentence)\n",
    "        return (word, sentence, replaced)\n",
    "    else:\n",
    "        print(\"words are empty\")\n",
    "        return (None, sentence, None)"
   ]
  },
  {
   "cell_type": "code",
   "execution_count": 70,
   "metadata": {},
   "outputs": [],
   "source": [
    "'''\n",
    "function which combines everything and generates blanks\n",
    "\n",
    "inputs are paragraph = paragraph(s)  you want to generate blanks from\n",
    "num_of_blanks = number of blanks you want to create\n",
    "\n",
    "right now, the function works only to create blanks upto a limit. when\n",
    "number of blanks to be created are more than total sentences, we have to create \n",
    "multiple blanks from same sentence, so answers can be deduced easily. where as\n",
    "if you don't care about that, we can extend the code a little and get that too\n",
    "\n",
    "output is an array\n",
    "each entry in the array is an array again, whose 1st element is the blank and\n",
    "2nd element is the missing word\n",
    "'''\n",
    "def create_blanks(paragraph,num_of_blanks):\n",
    "    # retrieve sentences whose words are tagged\n",
    "    tags_dict_sentences = clean_and_tag(paragraph) # a dictionary\n",
    "    # these many blanks are possible, as they can't be more than number of sentences\n",
    "    possib_blanks = len(list(tags_dict_sentences.keys()))\n",
    "    if possib_blanks> num_of_blanks:\n",
    "        # randomly shuffle the sentences\n",
    "        rand_sents = (list(tags_dict_sentences.keys()))\n",
    "        random.shuffle(rand_sents)\n",
    "        \n",
    "        #store the blanks in an array\n",
    "        blanks_arr = []\n",
    "        \n",
    "        # number of prepared blanks and dummy variable to iterate through rand_sents\n",
    "        prepared_blanks = 0\n",
    "        i = 0\n",
    "        while prepared_blanks<num_of_blanks and (i<len(rand_sents)):\n",
    "            curr_sent_tags = tags_dict_sentences[rand_sents[i]]\n",
    "            (word, sentence, replaced) = removeWord(rand_sents[i], tags_dict_sentences[rand_sents[i]])\n",
    "            if replaced is not None:\n",
    "                blanks_arr.append([replaced,word])\n",
    "                i+=1\n",
    "                prepared_blanks+=1\n",
    "            else:\n",
    "                i+=1\n",
    "        if prepared_blanks<num_of_blanks:\n",
    "            print(\"sorry, couldn't form more than {} blanks\".format(prepared_blanks))\n",
    "        return blanks_arr\n",
    "    # the same as above but asking for input\n",
    "    else:\n",
    "        try:\n",
    "            num_of_blanks  = int(input('''number of blanks you want to create are more\n",
    "            than number of sentences, please give a number less than {}.  \n",
    "            if you want to quit, just press any key other than integer and enter\\n'''.format(\n",
    "            possib_blanks)))\n",
    "            if num_of_blanks<possib_blanks:\n",
    "                flag = 0\n",
    "                rand_sents = (list(tags_dict_sentences.keys()))\n",
    "                random.shuffle(rand_sents)\n",
    "                blanks_arr = []\n",
    "                prepared_blanks = 0\n",
    "                i = 0\n",
    "                while prepared_blanks<num_of_blanks and (i<len(rand_sents)):\n",
    "                    curr_sent_tags = tags_dict_sentences[rand_sents[i]]\n",
    "                    (word, sentence, replaced) = removeWord(rand_sents[i], tags_dict_sentences[rand_sents[i]])\n",
    "                    if replaced is not None:\n",
    "                        blanks_arr.append([replaced,word])\n",
    "                        i+=1\n",
    "                        prepared_blanks+=1\n",
    "                    else:\n",
    "                        i+=1\n",
    "                if prepared_blanks<num_of_blanks:\n",
    "                    print(\"sorry, couldn't form more than {} blanks\".format(prepared_blanks))\n",
    "                return blanks_arr\n",
    "        except:\n",
    "            print('quittin :(')\n",
    "            return None\n",
    "        \n"
   ]
  },
  {
   "cell_type": "markdown",
   "metadata": {},
   "source": [
    "## try using it"
   ]
  },
  {
   "cell_type": "code",
   "execution_count": 63,
   "metadata": {},
   "outputs": [],
   "source": [
    "dravid = '''Rahul Sharad Dravid (/ˌrəhuːl drəvɪd/ (About this soundlisten); born 11 January 1973) is a former Indian cricketer and captain of the Indian national team. He is the current Overseas Batting Consultant for the Indian team, and also the Head Coach for the India Under-19 and India A teams.[2] Known for his sound batting technique,[3] Dravid has scored nearly 25,000 runs in international cricket and is widely regarded as one of the greatest batsmen in the history of cricket.[4][5][6] He is colloquially known as Dependable or Mr. Dependable, and often referred to as The Great Wall or The Wall by Indian cricket followers.[7]\n",
    "\n",
    "Born in a Marathi family and brought up in Bangalore, he started playing cricket at the age of 12 and later represented Karnataka at the under-15, under-17 and under-19 levels. Hailed as The Wall, Dravid was named one of the best five cricketers of the year by Wisden Cricketers' Almanack in 2000 and received the Player of the Year and the Test Player of the Year awards at the inaugural ICC awards ceremony in 2004.[8][9] In December 2011, he became the first non-Australian cricketer to deliver the Bradman Oration in Canberra.[10]\n",
    "\n",
    "As of December 2016, Dravid is the fourth-highest run scorer in Test cricket, after Sachin Tendulkar, Ricky Ponting and Jacques Kallis.[11][12] In 2004, after completing his century against Bangladesh in Chittagong, he became the first and the only player till date to score a century in all the ten Test-playing countries.[13] As of October 2012, he holds the record for the most number of catches taken by a player (non-wicket-keeper) in Test cricket, with 210.[14] Dravid holds a unique record of never getting out for a Golden duck in the 286 Test innings which he has played. He has faced 31258 balls, which is the highest number of balls faced by any player in test cricket. He has also spent 44152 minutes at the crease, which is the highest time spent on crease by any player in test cricket.[15]\n",
    "\n",
    "In August 2011, after receiving a surprise recall in the ODI series against England, Dravid declared his retirement from ODIs as well as Twenty20 International (T20I), and in March 2012, he announced his retirement from international and first-class cricket. He appeared in the 2012 Indian Premier League as captain of the Rajasthan Royals.[16]\n",
    "\n",
    "Rahul Dravid, along with Glenn McGrath were honoured during the seventh annual Bradman Awards function in Sydney on 1 November 2012.[17] Dravid has also been honoured with the Padma Shri and the Padma Bhushan award, India's fourth and third highest civilian awards respectively.[18][19]\n",
    "\n",
    "In 2014, Rahul Dravid joined the GoSports Foundation, Bangalore as a member of their board of advisors. In collaboration with GoSports Foundation he is mentoring India's future Olympians and Paralympians as part of the Rahul Dravid Athlete Mentorship Programme.[20] Indian badminton player Prannoy Kumar, Para-swimmer Sharath Gayakwad and young Golfer S. Chikkarangappa was part of the initial group of athletes to be mentored by Rahul Dravid. In July 2018, Dravid became the fifth Indian cricketer to be inducted into ICC Hall of Fame.[21]'''"
   ]
  },
  {
   "cell_type": "code",
   "execution_count": 64,
   "metadata": {
    "scrolled": false
   },
   "outputs": [],
   "source": [
    "blanks = create_blanks(dravid,5)"
   ]
  },
  {
   "cell_type": "code",
   "execution_count": 65,
   "metadata": {},
   "outputs": [
    {
     "name": "stdout",
     "output_type": "stream",
     "text": [
      "He has also spent 44152 minutes at the crease which is the highest time spent on crease by any player in test cricket.15In August 2011 after receiving a surprise recall in the ODI series against England Dravid declared his retirement from ODIs as well as Twenty20 International T20I and in __________________ 2012 he announced his retirement from international and first-class cricket. \n",
      "\n",
      "===============\n",
      "March \n",
      "===============\n",
      "\n",
      "Hailed as The Wall Dravid was named one of the best five cricketers of the year by Wisden Cricketers Almanack in 2000 and received the Player of the Year and the Test Player of the Year awards at the inaugural ICC awards ceremony in 2004.89 In December 2011 he became the first non-Australian cricketer to deliver the Bradman Oration in Canberra.10As of December 2016 Dravid is the fourth-highest run scorer in Test cricket after Sachin Tendulkar Ricky Ponting and Jacques Kallis.1112 In 2004 after completing his century against Bangladesh in __________________ he became the first and the only player till date to score a century in all the ten Test-playing countries.13 As of October 2012 he holds the record for the most number of catches taken by a player non-wicket-keeper in Test cricket with 210.14 Dravid holds a unique record of never getting out for a Golden duck in the 286 Test innings which he has played. \n",
      "\n",
      "===============\n",
      "Chittagong \n",
      "===============\n",
      "\n",
      "In July 2018 __________________ became the fifth Indian cricketer to be inducted into ICC Hall of Fame.21 \n",
      "\n",
      "===============\n",
      "Dravid \n",
      "===============\n",
      "\n",
      "He has faced 31258 balls which is the highest number of balls faced by any player in __________________ cricket. \n",
      "\n",
      "===============\n",
      "test \n",
      "===============\n",
      "\n",
      "He is the current Overseas Batting Consultant for the __________________n team and also the Head Coach for the __________________ Under-19 and __________________ A teams.2 Known for his sound batting technique3 Dravid has scored nearly 25000 runs in international cricket and is widely regarded as one of the greatest batsmen in the history of cricket.456 He is colloquially known as Dependable or Mr. \n",
      "\n",
      "===============\n",
      "India \n",
      "===============\n",
      "\n"
     ]
    }
   ],
   "source": [
    "for blank in blanks:\n",
    "    print(blank[0],\"\\n\\n===============\")\n",
    "    print(blank[1],\"\\n===============\\n\")"
   ]
  },
  {
   "cell_type": "code",
   "execution_count": 68,
   "metadata": {
    "scrolled": true
   },
   "outputs": [
    {
     "name": "stdout",
     "output_type": "stream",
     "text": [
      "number of blanks you want to create are more\n",
      "            than number of sentences, please give a number less than 9.  \n",
      "            if you want to quit, just press any key other than integer and enter\n",
      "haha\n",
      "quittin :(\n"
     ]
    }
   ],
   "source": [
    "blanks = create_blanks(dravid,50)"
   ]
  },
  {
   "cell_type": "code",
   "execution_count": 71,
   "metadata": {},
   "outputs": [
    {
     "name": "stdout",
     "output_type": "stream",
     "text": [
      "number of blanks you want to create are more\n",
      "            than number of sentences, please give a number less than 9.  \n",
      "            if you want to quit, just press any key other than integer and enter\n",
      "2\n"
     ]
    }
   ],
   "source": [
    "blanks = create_blanks(dravid,50)"
   ]
  },
  {
   "cell_type": "code",
   "execution_count": 72,
   "metadata": {},
   "outputs": [
    {
     "name": "stdout",
     "output_type": "stream",
     "text": [
      "In collaboration with GoSports Foundation he is mentoring Indias future Olympians and Paralympians as part of the Rahul Dravid Athlete Mentorship Programme.20 Indian badminton player __________________ Kumar Para-swimmer Sharath Gayakwad and young Golfer S. Chikkarangappa was part of the initial group of athletes to be mentored by Rahul Dravid. \n",
      "\n",
      "===============\n",
      "Prannoy \n",
      "===============\n",
      "\n",
      "In July 2018 Dravid became the fifth Indian cricketer to be inducted into __________________ Hall of Fame.21 \n",
      "\n",
      "===============\n",
      "ICC \n",
      "===============\n",
      "\n"
     ]
    }
   ],
   "source": [
    "for blank in blanks:\n",
    "    print(blank[0],\"\\n\\n===============\")\n",
    "    print(blank[1],\"\\n===============\\n\")"
   ]
  },
  {
   "cell_type": "code",
   "execution_count": 73,
   "metadata": {},
   "outputs": [],
   "source": [
    "french_rev = '''The French Revolution (French: Révolution française [ʁevɔlysjɔ̃ fʁɑ̃sɛːz]) was a period of far-reaching social and political upheaval in France and its colonies beginning in 1789. The Revolution overthrew the monarchy, established a republic, catalyzed violent periods of political turmoil, and finally culminated in a dictatorship under Napoleon who brought many of its principles to areas he conquered in Western Europe and beyond. Inspired by liberal and radical ideas, the Revolution profoundly altered the course of modern history, triggering the global decline of absolute monarchies while replacing them with republics and liberal democracies.[1] Through the Revolutionary Wars, it unleashed a wave of global conflicts that extended from the Caribbean to the Middle East. Historians widely regard the Revolution as one of the most important events in human history.[2][3][4]\n",
    "\n",
    "The causes of the French Revolution are complex and are still debated among historians. Following the Seven Years' War and the American Revolutionary War,[5] the French government was deeply in debt. It attempted to restore its financial status through unpopular taxation schemes, which were heavily regressive. Leading up to the Revolution, years of bad harvests worsened by deregulation of the grain industry and environmental problems also inflamed popular resentment of the privileges enjoyed by the aristocracy and the Catholic clergy of the established church. Some historians hold something similar to what Thomas Jefferson proclaimed: that France had \"been awakened by our [American] Revolution.\"[6] Demands for change were formulated in terms of Enlightenment ideals and contributed to the convocation of the Estates General in May 1789. During the first year of the Revolution, members of the Third Estate (commoners) took control, the Bastille was attacked in July, the Declaration of the Rights of Man and of the Citizen was passed in August, and the Women's March on Versailles forced the royal court back to Paris in October. A central event of the first stage, in August 1789, was the abolition of feudalism and the old rules and privileges left over from the Ancien Régime.\n",
    "\n",
    "The next few years featured political struggles between various liberal assemblies and right-wing supporters of the monarchy intent on thwarting major reforms. The Republic was proclaimed in September 1792 after the French victory at Valmy. In a momentous event that led to international condemnation, Louis XVI was executed in January 1793.\n",
    "\n",
    "External threats closely shaped the course of the Revolution. The Revolutionary Wars beginning in 1792 ultimately featured French victories that facilitated the conquest of the Italian Peninsula, the Low Countries and most territories west of the Rhine – achievements that had eluded previous French governments for centuries. Internally, popular agitation radicalised the Revolution significantly, culminating in the rise of Maximilien Robespierre and the Jacobins. The dictatorship imposed by the Committee of Public Safety during the Reign of Terror, from 1793 until 1794, established price controls on food and other items, abolished slavery in French colonies abroad, de-established the Catholic church (dechristianised society) and created a secular Republican calendar, religious leaders were expelled, and the borders of the new republic were secured from its enemies.\n",
    "\n",
    "After the Thermidorian Reaction, an executive council known as the Directory assumed control of the French state in 1795. They suspended elections, repudiated debts (creating financial instability in the process), persecuted the Catholic clergy, and made significant military conquests abroad.[7] Dogged by charges of corruption, the Directory collapsed in a coup led by Napoleon Bonaparte in 1799. Napoleon, who became the hero of the Revolution through his popular military campaigns, established the Consulate and later the First Empire, setting the stage for a wider array of global conflicts in the Napoleonic Wars.\n",
    "\n",
    "The modern era has unfolded in the shadow of the French Revolution. Almost all future revolutionary movements looked back to the Revolution as their predecessor.[8] Its central phrases and cultural symbols, such as La Marseillaise and Liberté, fraternité, égalité, ou la mort, became the clarion call for other major upheavals in modern history, including the Russian Revolution over a century later.[9]\n",
    "\n",
    "The values and institutions of the Revolution dominate French politics to this day. The Revolution resulted in the suppression of the feudal system, emancipation of the individual, a greater division of landed property, abolition of the privileges of noble birth, and nominal establishment of equality among men. The French Revolution differed from other revolutions in being not only national, for it intended to benefit all humanity.[10]\n",
    "\n",
    "Globally, the Revolution accelerated the rise of republics and democracies. It became the focal point for the development of most modern political ideologies, leading to the spread of liberalism, radicalism, nationalism, and secularism, among many others. The Revolution also witnessed the birth of total war by organising the resources of France and the lives of its citizens towards the objective of national defense.[11] Some of its central documents, such as the Declaration of the Rights of Man and of the Citizen, continued to inspire movements for abolitionism and universal suffrage in the next century.'''"
   ]
  },
  {
   "cell_type": "code",
   "execution_count": 74,
   "metadata": {},
   "outputs": [],
   "source": [
    "french_rev_blanks = create_blanks(french_rev,20)"
   ]
  },
  {
   "cell_type": "code",
   "execution_count": 75,
   "metadata": {},
   "outputs": [
    {
     "name": "stdout",
     "output_type": "stream",
     "text": [
      "A central event of the first stage in August 1789 was the abolition of feudalism and the old rules and privileges left over from the __________________ Rgime.The next few years featured political struggles between various liberal assemblies and right-wing supporters of the monarchy intent on thwarting major reforms. \n",
      "\n",
      "===============\n",
      "Ancien \n",
      "===============\n",
      "\n",
      "Some historians hold something similar to what Thomas Jefferson proclaimed that France had been awakened by our American Revolution.6 Demands for change were formulated in terms of __________________ ideals and contributed to the convocation of the Estates General in May 1789. \n",
      "\n",
      "===============\n",
      "Enlightenment \n",
      "===============\n",
      "\n",
      "The Republic was proclaimed in September 1792 after the French victory at __________________. \n",
      "\n",
      "===============\n",
      "Valmy \n",
      "===============\n",
      "\n",
      "They suspended elections repudiated debts creating financial instability in the process persecuted the Catholic clergy and made significant military conquests abroad.7 Dogged by charges of corruption the Directory collapsed in a coup led by __________________ Bonaparte in 1799. \n",
      "\n",
      "===============\n",
      "Napoleon \n",
      "===============\n",
      "\n",
      "The __________________ Revolution __________________ Rvolution franaise evlysj fsz was a period of far-reaching social and political upheaval in France and its colonies beginning in 1789. \n",
      "\n",
      "===============\n",
      "French \n",
      "===============\n",
      "\n",
      "Historians widely regard the __________________ as one of the most important events in human history.234The causes of the French __________________ are complex and are still debated among historians. \n",
      "\n",
      "===============\n",
      "Revolution \n",
      "===============\n",
      "\n",
      "During the first year of the Revolution members of the Third Estate commoners took control the Bastille was attacked in July the Declaration of the Rights of Man and of the Citizen was passed in August and the Womens March on __________________ forced the royal court back to Paris in October. \n",
      "\n",
      "===============\n",
      "Versailles \n",
      "===============\n",
      "\n",
      "The __________________ resulted in the suppression of the feudal system emancipation of the individual a greater division of landed property abolition of the privileges of noble birth and nominal establishment of equality among men. \n",
      "\n",
      "===============\n",
      "Revolution \n",
      "===============\n",
      "\n",
      "The dictatorship imposed by the Committee of Public Safety during the Reign of Terror from 1793 until 1794 established price controls on food and other items abolished slavery in French colonies abroad de-established the Catholic church dechristianised society and created a secular Republican calendar religious leaders were expelled and the borders of the new republic were secured from its enemies.After the Thermidorian __________________ an executive council known as the Directory assumed control of the French state in 1795. \n",
      "\n",
      "===============\n",
      "Reaction \n",
      "===============\n",
      "\n",
      "It became the focal point for the development of most modern political ideologies leading to the spread of liberalism radicalism nationalism and __________________ among many others. \n",
      "\n",
      "===============\n",
      "secularism \n",
      "===============\n",
      "\n",
      "Following the Seven Years __________________ and the American Revolutionary __________________5 the French government was deeply in debt. \n",
      "\n",
      "===============\n",
      "War \n",
      "===============\n",
      "\n",
      "The Revolution overthrew the monarchy established a republic catalyzed violent periods of political turmoil and finally culminated in a dictatorship under Napoleon who brought many of its principles to areas he conquered in Western __________________ and beyond. \n",
      "\n",
      "===============\n",
      "Europe \n",
      "===============\n",
      "\n",
      "Napoleon who became the hero of the Revolution through his popular military campaigns established the Consulate and later the __________________ Empire setting the stage for a wider array of global conflicts in the Napoleonic Wars.The modern era has unfolded in the shadow of the French Revolution. \n",
      "\n",
      "===============\n",
      "First \n",
      "===============\n",
      "\n",
      "Inspired by liberal and radical ideas the Revolution profoundly altered the course of modern history triggering the global decline of absolute monarchies while replacing them with republics and liberal democracies.1 Through the Revolutionary __________________ it unleashed a wave of global conflicts that extended from the Caribbean to the Middle East. \n",
      "\n",
      "===============\n",
      "Wars \n",
      "===============\n",
      "\n",
      "The French __________________ differed from other __________________s in being not only national for it intended to benefit all humanity.10Globally the __________________ accelerated the rise of republics and democracies. \n",
      "\n",
      "===============\n",
      "Revolution \n",
      "===============\n",
      "\n",
      "In a momentous event that led to international condemnation Louis __________________ was executed in January 1793.External threats closely shaped the course of the Revolution. \n",
      "\n",
      "===============\n",
      "XVI \n",
      "===============\n",
      "\n",
      "The Revolution also witnessed the birth of total war by organising the resources of France and the lives of its citizens towards the objective of national defense.11 Some of its central documents such as the __________________ of the Rights of Man and of the Citizen continued to inspire movements for abolitionism and universal suffrage in the next century. \n",
      "\n",
      "===============\n",
      "Declaration \n",
      "===============\n",
      "\n",
      "Almost all future __________________ary movements looked back to the __________________ as their predecessor.8 Its central phrases and cultural symbols such as La Marseillaise and Libert fraternit galit ou la mort became the clarion call for other major upheavals in modern history including the Russian __________________ over a century later.9The values and institutions of the __________________ dominate French politics to this day. \n",
      "\n",
      "===============\n",
      "Revolution \n",
      "===============\n",
      "\n",
      "It attempted to restore its financial __________________ through unpopular taxation schemes which were heavily regressive. \n",
      "\n",
      "===============\n",
      "status \n",
      "===============\n",
      "\n",
      "Leading up to the Revolution years of bad harvests worsened by deregulation of the grain industry and environmental problems also inflamed popular resentment of the privileges enjoyed by the aristocracy and the __________________ clergy of the established church. \n",
      "\n",
      "===============\n",
      "Catholic \n",
      "===============\n",
      "\n"
     ]
    }
   ],
   "source": [
    "for blank in french_rev_blanks:\n",
    "    print(blank[0],\"\\n\\n===============\")\n",
    "    print(blank[1],\"\\n===============\\n\")"
   ]
  },
  {
   "cell_type": "markdown",
   "metadata": {},
   "source": [
    "**improvements possible**\n",
    "* handling diacritics like ā, ē, ī, ū, č, ģ, ķ, ļ, ņ, š, ž  \n",
    "* when a word you chose to make as a blank is repeating in the sentence, fix it from having multiple blanks or make sure that such words are not chosen to be blanks  \n",
    "* use other nltk methods to come up with a metric to choose the best word to be a blank from a sentence  \n",
    "*  extend this as multiple choice questions, using word embeddings to find closely related words to the blank"
   ]
  },
  {
   "cell_type": "code",
   "execution_count": null,
   "metadata": {},
   "outputs": [],
   "source": []
  }
 ],
 "metadata": {
  "kernelspec": {
   "display_name": "Python 3",
   "language": "python",
   "name": "python3"
  },
  "language_info": {
   "codemirror_mode": {
    "name": "ipython",
    "version": 3
   },
   "file_extension": ".py",
   "mimetype": "text/x-python",
   "name": "python",
   "nbconvert_exporter": "python",
   "pygments_lexer": "ipython3",
   "version": "3.6.5"
  },
  "toc": {
   "nav_menu": {},
   "number_sections": true,
   "sideBar": true,
   "skip_h1_title": false,
   "toc_cell": false,
   "toc_position": {},
   "toc_section_display": "block",
   "toc_window_display": false
  }
 },
 "nbformat": 4,
 "nbformat_minor": 2
}
