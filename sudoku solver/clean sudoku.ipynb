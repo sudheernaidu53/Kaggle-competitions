{
 "cells": [
  {
   "cell_type": "code",
   "execution_count": 1,
   "metadata": {},
   "outputs": [],
   "source": [
    "import numpy as np\n",
    "import pandas as pd\n",
    "import random as random\n",
    "import sys\n",
    "\n",
    "sys.getrecursionlimit()\n",
    "\n",
    "sys.setrecursionlimit(1000000)"
   ]
  },
  {
   "cell_type": "markdown",
   "metadata": {},
   "source": [
    "# solve for 3"
   ]
  },
  {
   "cell_type": "code",
   "execution_count": 2,
   "metadata": {},
   "outputs": [],
   "source": [
    "#assumed that sudoku is in numpy array\n",
    "def check_in_col(col,grid,num):\n",
    "    return num in grid[:,col]\n",
    "def check_in_row(row,grid,num):\n",
    "    return num in grid[row]\n",
    "def check_in_square(row,col,grid,num):\n",
    "    if row<3:\n",
    "        if col<3:\n",
    "            return num in grid[:3,:3]\n",
    "        elif col<6:\n",
    "            return num in grid[:3,3:6]\n",
    "        else: \n",
    "            return num in grid[:3,6:9]\n",
    "    elif row<6:\n",
    "        if col<3:\n",
    "            return num in grid[3:6,:3]\n",
    "        elif col<6:\n",
    "            return num in grid[3:6,3:6]\n",
    "        else: \n",
    "            return num in grid[3:6,6:9]\n",
    "    else:\n",
    "        if col<3:\n",
    "            return num in grid[6:9,:3]\n",
    "        elif col<6:\n",
    "            return num in grid[6:9,3:6]\n",
    "        else: \n",
    "            return num in grid[6:9,6:9]"
   ]
  },
  {
   "cell_type": "code",
   "execution_count": 3,
   "metadata": {},
   "outputs": [],
   "source": [
    "def isgridfull(grid,size):\n",
    "    for i in range(size):\n",
    "        if 0 in grid[i]:\n",
    "            return False\n",
    "    return True"
   ]
  },
  {
   "cell_type": "code",
   "execution_count": 4,
   "metadata": {},
   "outputs": [],
   "source": [
    "def printgrid(grid):\n",
    "    for i in range(9):\n",
    "        print(grid[i],end = '\\n')\n",
    "    print(' ')"
   ]
  },
  {
   "cell_type": "code",
   "execution_count": 5,
   "metadata": {},
   "outputs": [],
   "source": [
    "counter=1\n",
    "def solve_sudoku1(grid):\n",
    "    global counter\n",
    "    for i in range(0,81):\n",
    "        if i==80:\n",
    "            if grid[8][8]:\n",
    "                return True\n",
    "        row=i//9\n",
    "        col=i%9\n",
    "        if grid[row][col]==0:\n",
    "            for num in range(1,10):\n",
    "                if (not check_in_col(col,grid,num)) and (not check_in_row(row,grid,num)) and (not check_in_square(row,col,grid,num)):\n",
    "                    grid[row][col]=num\n",
    "                    if solve_sudoku(grid):\n",
    "                        return True\n",
    "                if num==9:\n",
    "                    grid[row][col]=0 \n",
    "            break\n",
    "    return False\n",
    "def solve_sudoku(grid):\n",
    "    global counter\n",
    "    for i in range(0,81):\n",
    "        if i==80:\n",
    "            if grid[8][8]:\n",
    "                return True\n",
    "        row=i//9\n",
    "        col=i%9\n",
    "        if grid[row][col]==0:\n",
    "            numbers = list(range(1,10))\n",
    "            random.shuffle(numbers)\n",
    "            for idx,num in enumerate(numbers):\n",
    "                if (not check_in_col(col,grid,num)) and (not check_in_row(row,grid,num)) and (not check_in_square(row,col,grid,num)):\n",
    "                    grid[row][col]=num\n",
    "                    if solve_sudoku(grid):\n",
    "                        return True\n",
    "                if idx==8:\n",
    "                    grid[row][col]=0 \n",
    "            break\n",
    "    return False"
   ]
  },
  {
   "cell_type": "code",
   "execution_count": 6,
   "metadata": {},
   "outputs": [],
   "source": [
    "grid = np.array([[3,0,0,6,8,0,0,9,0],[6,0,0,0,0,2,8,1,0],[0,0,0,0,9,5,3,0,7],[4,0,0,0,0,8,0,0,2],[0,0,5,2,0,3,7,0,0],[1,0,0,4,0,0,0,0,3],[9,0,4,8,7,0,0,0,0],[0,1,6,5,0,0,0,0,8],[0,8,0,0,3,1,0,0,6]])"
   ]
  },
  {
   "cell_type": "code",
   "execution_count": 7,
   "metadata": {},
   "outputs": [
    {
     "name": "stdout",
     "output_type": "stream",
     "text": [
      "[3 0 0 6 8 0 0 9 0]\n",
      "[6 0 0 0 0 2 8 1 0]\n",
      "[0 0 0 0 9 5 3 0 7]\n",
      "[4 0 0 0 0 8 0 0 2]\n",
      "[0 0 5 2 0 3 7 0 0]\n",
      "[1 0 0 4 0 0 0 0 3]\n",
      "[9 0 4 8 7 0 0 0 0]\n",
      "[0 1 6 5 0 0 0 0 8]\n",
      "[0 8 0 0 3 1 0 0 6]\n",
      " \n"
     ]
    }
   ],
   "source": [
    "printgrid(grid)"
   ]
  },
  {
   "cell_type": "code",
   "execution_count": 8,
   "metadata": {},
   "outputs": [
    {
     "data": {
      "text/plain": [
       "True"
      ]
     },
     "execution_count": 8,
     "metadata": {},
     "output_type": "execute_result"
    }
   ],
   "source": [
    "solve_sudoku1(grid)"
   ]
  },
  {
   "cell_type": "code",
   "execution_count": 9,
   "metadata": {
    "scrolled": true
   },
   "outputs": [
    {
     "data": {
      "text/plain": [
       "array([[3, 5, 1, 6, 8, 7, 2, 9, 4],\n",
       "       [6, 7, 9, 3, 4, 2, 8, 1, 5],\n",
       "       [2, 4, 8, 1, 9, 5, 3, 6, 7],\n",
       "       [4, 9, 3, 7, 6, 8, 1, 5, 2],\n",
       "       [8, 6, 5, 2, 1, 3, 7, 4, 9],\n",
       "       [1, 2, 7, 4, 5, 9, 6, 8, 3],\n",
       "       [9, 3, 4, 8, 7, 6, 5, 2, 1],\n",
       "       [7, 1, 6, 5, 2, 4, 9, 3, 8],\n",
       "       [5, 8, 2, 9, 3, 1, 4, 7, 6]])"
      ]
     },
     "execution_count": 9,
     "metadata": {},
     "output_type": "execute_result"
    }
   ],
   "source": [
    "grid"
   ]
  },
  {
   "cell_type": "code",
   "execution_count": 10,
   "metadata": {},
   "outputs": [
    {
     "name": "stdout",
     "output_type": "stream",
     "text": [
      "Wall time: 12.1 s\n"
     ]
    }
   ],
   "source": [
    "%%time\n",
    "for _ in range(100):\n",
    "    grid = np.array([[3, 0, 6, 5, 0, 8, 4, 0, 0],[5, 2, 0, 0, 0, 0, 0, 0, 0],[0, 8, 7, 0, 0, 0, 0, 3, 1],[0, 0, 3, 0, 1, 0, 0, 8, 0],\n",
    "                     [9, 0, 0, 8, 6, 3, 0, 0, 5],[0, 5, 0, 0, 9, 0, 6, 0, 0],[1, 3, 0, 0, 0, 0, 2, 5, 0],[0, 0, 0, 0, 0, 0, 0, 7, 4],\n",
    "                     [0, 0, 5, 2, 0, 6, 3, 0, 0]])\n",
    "    solve_sudoku1(grid)"
   ]
  },
  {
   "cell_type": "markdown",
   "metadata": {},
   "source": [
    "# creating grids"
   ]
  },
  {
   "cell_type": "code",
   "execution_count": 11,
   "metadata": {},
   "outputs": [],
   "source": [
    "def fillsmallgrid(grid,start,siz):\n",
    "    numbers = np.array(range(1,siz**2+1))\n",
    "    random.shuffle(numbers)\n",
    "    grid[start:start+siz,start:start+siz] = np.reshape(numbers,(siz,siz))\n",
    "    \n",
    "def creategrid(siz = 3):\n",
    "    size = siz**2\n",
    "    grid = np.zeros((size,size),dtype = int)\n",
    "    i = 0\n",
    "    while i<siz:\n",
    "        fillsmallgrid(grid,i*siz,siz)\n",
    "        i+=1\n",
    "    solve_sudoku(grid)\n",
    "    return grid"
   ]
  },
  {
   "cell_type": "code",
   "execution_count": 13,
   "metadata": {},
   "outputs": [
    {
     "data": {
      "text/plain": [
       "array([[2, 6, 8, 7, 5, 3, 9, 4, 1],\n",
       "       [9, 5, 4, 8, 1, 2, 6, 7, 3],\n",
       "       [7, 3, 1, 6, 9, 4, 8, 2, 5],\n",
       "       [1, 8, 7, 4, 3, 5, 2, 6, 9],\n",
       "       [5, 9, 2, 1, 7, 6, 3, 8, 4],\n",
       "       [3, 4, 6, 2, 8, 9, 1, 5, 7],\n",
       "       [6, 2, 9, 5, 4, 1, 7, 3, 8],\n",
       "       [8, 1, 5, 3, 6, 7, 4, 9, 2],\n",
       "       [4, 7, 3, 9, 2, 8, 5, 1, 6]])"
      ]
     },
     "execution_count": 13,
     "metadata": {},
     "output_type": "execute_result"
    }
   ],
   "source": [
    "creategrid()"
   ]
  },
  {
   "cell_type": "markdown",
   "metadata": {},
   "source": [
    "# solve sudoku for block size = n (general, not 3)"
   ]
  },
  {
   "cell_type": "code",
   "execution_count": 278,
   "metadata": {},
   "outputs": [],
   "source": [
    "#assumed that sudoku is in numpy array format\n",
    "def check_in_col(col,grid,num):\n",
    "    return num in grid[:,col]\n",
    "def check_in_row(row,grid,num):\n",
    "    return num in grid[row]\n",
    "def check_in_square(row,col,grid,siz,num):\n",
    "    fr = 1\n",
    "    fc = 1\n",
    "    rsq = 0\n",
    "    csq = 0\n",
    "    while fr:\n",
    "        rsq+=1\n",
    "        if row<rsq*siz:\n",
    "            fr = 0\n",
    "    while fc:\n",
    "        csq+=1\n",
    "        if col<csq*siz:\n",
    "            fc = 0\n",
    "    return num in grid[(rsq-1)*siz:rsq*siz,(csq-1)*siz:csq*siz]"
   ]
  },
  {
   "cell_type": "code",
   "execution_count": 282,
   "metadata": {},
   "outputs": [],
   "source": [
    "def isgridfull(grid,size=9):\n",
    "    #size is side of whole sudoku\n",
    "    for i in range(size):\n",
    "        if 0 in grid[i]:\n",
    "            return False\n",
    "    return True"
   ]
  },
  {
   "cell_type": "code",
   "execution_count": 280,
   "metadata": {},
   "outputs": [],
   "source": [
    "def printgrid(grid,size=9):\n",
    "    for i in range(size):\n",
    "        print(grid[i],end = '\\n')\n",
    "    print(' ')"
   ]
  },
  {
   "cell_type": "code",
   "execution_count": 283,
   "metadata": {},
   "outputs": [],
   "source": [
    "counter=1\n",
    "\n",
    "def solve_sudoku(grid,size = 9,siz=3):\n",
    "#     print(grid)\n",
    "#     size = len(grid)\n",
    "#     siz = math.sqrt(size)\n",
    "#     if siz%1:\n",
    "#         print('sudoku is of wrong size. length of each side should be a perfect square')\n",
    "#         return\n",
    "        \n",
    "    global counter\n",
    "    tot_nums = size**2\n",
    "    for i in range(0,tot_nums):\n",
    "        if i==tot_nums-1:\n",
    "            if grid[size-1][size-1]:\n",
    "                return True\n",
    "        row=i//size\n",
    "        col=i%size\n",
    "        if grid[row][col]==0:\n",
    "            numbers = list(range(1,size+1))\n",
    "            random.shuffle(numbers)\n",
    "            for idx,num in enumerate(numbers):\n",
    "                if (not check_in_col(col,grid,num)) and (not check_in_row(row,grid,num)) and (not check_in_square(row,col,grid,siz,num)):\n",
    "                    grid[row][col]=num\n",
    "#                     counter+=1\n",
    "                    if solve_sudoku(grid,size,siz):\n",
    "                        return True\n",
    "                if idx==size-1:\n",
    "                    grid[row][col]=0 \n",
    "            break\n",
    "    return False"
   ]
  },
  {
   "cell_type": "code",
   "execution_count": 284,
   "metadata": {},
   "outputs": [],
   "source": [
    "grid = np.array([[3,0,0,6,8,0,0,9,0],[6,0,0,0,0,2,8,1,0],[0,0,0,0,9,5,3,0,7],[4,0,0,0,0,8,0,0,2],[0,0,5,2,0,3,7,0,0],[1,0,0,4,0,0,0,0,3],[9,0,4,8,7,0,0,0,0],[0,1,6,5,0,0,0,0,8],[0,8,0,0,3,1,0,0,6]])"
   ]
  },
  {
   "cell_type": "code",
   "execution_count": 285,
   "metadata": {},
   "outputs": [
    {
     "name": "stdout",
     "output_type": "stream",
     "text": [
      "[3 0 0 6 8 0 0 9 0]\n",
      "[6 0 0 0 0 2 8 1 0]\n",
      "[0 0 0 0 9 5 3 0 7]\n",
      "[4 0 0 0 0 8 0 0 2]\n",
      "[0 0 5 2 0 3 7 0 0]\n",
      "[1 0 0 4 0 0 0 0 3]\n",
      "[9 0 4 8 7 0 0 0 0]\n",
      "[0 1 6 5 0 0 0 0 8]\n",
      "[0 8 0 0 3 1 0 0 6]\n",
      " \n"
     ]
    }
   ],
   "source": [
    "printgrid(grid)"
   ]
  },
  {
   "cell_type": "code",
   "execution_count": 286,
   "metadata": {},
   "outputs": [
    {
     "data": {
      "text/plain": [
       "True"
      ]
     },
     "execution_count": 286,
     "metadata": {},
     "output_type": "execute_result"
    }
   ],
   "source": [
    "solve_sudoku(grid)"
   ]
  },
  {
   "cell_type": "code",
   "execution_count": 287,
   "metadata": {
    "scrolled": true
   },
   "outputs": [
    {
     "data": {
      "text/plain": [
       "array([[3, 5, 1, 6, 8, 7, 2, 9, 4],\n",
       "       [6, 7, 9, 3, 4, 2, 8, 1, 5],\n",
       "       [2, 4, 8, 1, 9, 5, 3, 6, 7],\n",
       "       [4, 9, 3, 7, 6, 8, 1, 5, 2],\n",
       "       [8, 6, 5, 2, 1, 3, 7, 4, 9],\n",
       "       [1, 2, 7, 4, 5, 9, 6, 8, 3],\n",
       "       [9, 3, 4, 8, 7, 6, 5, 2, 1],\n",
       "       [7, 1, 6, 5, 2, 4, 9, 3, 8],\n",
       "       [5, 8, 2, 9, 3, 1, 4, 7, 6]])"
      ]
     },
     "execution_count": 287,
     "metadata": {},
     "output_type": "execute_result"
    }
   ],
   "source": [
    "grid"
   ]
  },
  {
   "cell_type": "code",
   "execution_count": 308,
   "metadata": {},
   "outputs": [],
   "source": [
    "def fillsmallgrid(grid,start,siz):\n",
    "    numbers = np.array(range(1,siz**2+1))\n",
    "    random.shuffle(numbers)\n",
    "    grid[start:start+siz,start:start+siz] = np.reshape(numbers,(siz,siz))\n",
    "    \n",
    "def creategrid(siz = 3):\n",
    "    #this wouldn't work for siz<3. because then the diagonal blocks are not independent.\n",
    "#     Try and check for 2. sometimes you can get full sudoku if you are lucky. else just diagonal blocks filled\n",
    "    size = siz**2\n",
    "    grid = np.zeros((size,size),dtype = int)\n",
    "    i = 0\n",
    "    while i<siz:\n",
    "        fillsmallgrid(grid,i*siz,siz)\n",
    "        i+=1\n",
    "    solve_sudoku(grid,size,siz)\n",
    "    return grid"
   ]
  },
  {
   "cell_type": "code",
   "execution_count": 310,
   "metadata": {
    "scrolled": false
   },
   "outputs": [
    {
     "name": "stdout",
     "output_type": "stream",
     "text": [
      "Wall time: 959 µs\n"
     ]
    },
    {
     "data": {
      "text/plain": [
       "array([[1, 2, 0, 0],\n",
       "       [4, 3, 0, 0],\n",
       "       [0, 0, 3, 1],\n",
       "       [0, 0, 4, 2]])"
      ]
     },
     "execution_count": 310,
     "metadata": {},
     "output_type": "execute_result"
    }
   ],
   "source": [
    "%%time\n",
    "creategrid(2)"
   ]
  },
  {
   "cell_type": "code",
   "execution_count": 301,
   "metadata": {
    "scrolled": false
   },
   "outputs": [
    {
     "name": "stdout",
     "output_type": "stream",
     "text": [
      "Wall time: 28.3 ms\n"
     ]
    },
    {
     "data": {
      "text/plain": [
       "array([[1, 5, 3, 9, 7, 6, 2, 8, 4],\n",
       "       [2, 8, 6, 1, 5, 4, 9, 3, 7],\n",
       "       [7, 9, 4, 3, 2, 8, 6, 1, 5],\n",
       "       [9, 6, 7, 2, 3, 5, 8, 4, 1],\n",
       "       [5, 4, 8, 6, 9, 1, 3, 7, 2],\n",
       "       [3, 2, 1, 8, 4, 7, 5, 6, 9],\n",
       "       [6, 3, 9, 7, 1, 2, 4, 5, 8],\n",
       "       [4, 7, 2, 5, 8, 3, 1, 9, 6],\n",
       "       [8, 1, 5, 4, 6, 9, 7, 2, 3]])"
      ]
     },
     "execution_count": 301,
     "metadata": {},
     "output_type": "execute_result"
    }
   ],
   "source": [
    "%%time\n",
    "creategrid(3)"
   ]
  },
  {
   "cell_type": "code",
   "execution_count": 292,
   "metadata": {
    "scrolled": true
   },
   "outputs": [
    {
     "name": "stdout",
     "output_type": "stream",
     "text": [
      "Wall time: 1.05 s\n"
     ]
    },
    {
     "data": {
      "text/plain": [
       "array([[ 7, 12,  1, 13, 15,  5, 11,  3, 14, 10, 16,  2,  4,  9,  6,  8],\n",
       "       [ 5,  9, 16,  4,  7,  6, 12,  8, 13, 11,  3, 15, 10,  1,  2, 14],\n",
       "       [11, 15, 10,  2,  1, 13, 14, 16,  8,  6,  4,  9,  7,  3,  5, 12],\n",
       "       [ 3, 14,  6,  8,  2,  9,  4, 10,  1,  5,  7, 12, 13, 11, 15, 16],\n",
       "       [ 1,  6,  2,  7, 10,  8, 13,  5,  9, 12, 14, 16, 11, 15,  3,  4],\n",
       "       [ 9, 10, 13,  3, 12, 11,  2,  7, 15,  8,  6,  4, 16, 14,  1,  5],\n",
       "       [12,  8,  4,  5, 14, 15, 16,  9,  2,  3,  1, 11,  6, 13,  7, 10],\n",
       "       [16, 11, 15, 14,  3,  4,  1,  6,  5,  7, 10, 13,  8,  2, 12,  9],\n",
       "       [ 2, 16, 12,  9,  6,  3, 10, 13,  7,  1, 11, 14,  5,  4,  8, 15],\n",
       "       [ 4,  5,  7,  6,  9, 16,  8,  1, 12, 13, 15,  3,  2, 10, 14, 11],\n",
       "       [ 8,  1, 14, 11,  5, 12, 15,  4, 10,  2,  9,  6,  3, 16, 13,  7],\n",
       "       [10, 13,  3, 15, 11,  2,  7, 14, 16,  4,  8,  5, 12,  6,  9,  1],\n",
       "       [ 6,  7,  5,  1, 13, 14,  3, 15,  4, 16, 12, 10,  9,  8, 11,  2],\n",
       "       [15,  4, 11, 16,  8,  1,  6,  2,  3,  9,  5,  7, 14, 12, 10, 13],\n",
       "       [14,  2,  9, 12,  4, 10,  5, 11,  6, 15, 13,  8,  1,  7, 16,  3],\n",
       "       [13,  3,  8, 10, 16,  7,  9, 12, 11, 14,  2,  1, 15,  5,  4,  6]])"
      ]
     },
     "execution_count": 292,
     "metadata": {},
     "output_type": "execute_result"
    }
   ],
   "source": [
    "%%time\n",
    "creategrid(4)"
   ]
  },
  {
   "cell_type": "code",
   "execution_count": 293,
   "metadata": {
    "scrolled": true
   },
   "outputs": [
    {
     "name": "stdout",
     "output_type": "stream",
     "text": [
      "Wall time: 10min 6s\n"
     ]
    },
    {
     "data": {
      "text/plain": [
       "array([[ 5,  9, 15, 19, 17, 14, 22, 20,  6, 13, 23, 16,  2, 11, 24, 21,\n",
       "         1,  3,  8, 18,  7,  4, 12, 10, 25],\n",
       "       [11, 20, 22, 24,  3,  8, 17,  1,  2, 16, 21, 25,  7, 15,  5, 12,\n",
       "         4, 14, 13, 10, 23,  9, 19, 18,  6],\n",
       "       [14, 12, 13, 10, 25,  4, 19,  7, 15, 11,  3,  1,  9, 17, 18,  6,\n",
       "         2, 16, 23, 24, 21,  8, 20, 22,  5],\n",
       "       [ 2, 23, 21,  4,  1,  9, 10, 18, 24, 12, 13, 19, 20,  8,  6,  7,\n",
       "        22, 25, 15,  5, 11, 14, 17,  3, 16],\n",
       "       [18,  6,  8,  7, 16, 21, 23, 25,  5,  3,  4, 10, 22, 12, 14, 19,\n",
       "         9, 20, 11, 17,  2, 13, 24, 15,  1],\n",
       "       [25, 13, 18,  1, 10,  7,  2, 14, 22, 23,  9, 15, 16, 20, 11,  4,\n",
       "        19, 12,  5,  3,  6, 17,  8, 21, 24],\n",
       "       [23, 16, 12,  3, 14, 24, 21,  8,  9,  5,  7,  6, 13,  2, 17, 15,\n",
       "        20, 10, 18, 25, 22,  1, 11,  4, 19],\n",
       "       [24, 17,  5, 22, 11, 13,  3, 16,  1, 20, 14, 21, 12, 19,  4,  9,\n",
       "         8, 23,  7,  6, 15, 18, 10, 25,  2],\n",
       "       [15,  8, 20,  6, 19, 17, 18, 12,  4, 10, 24,  5, 25,  3, 22, 14,\n",
       "        11,  1, 21,  2,  9,  7, 16, 23, 13],\n",
       "       [ 7,  4,  9, 21,  2, 25, 11,  6, 19, 15, 10,  8, 18,  1, 23, 16,\n",
       "        13, 24, 17, 22, 12,  5,  3, 14, 20],\n",
       "       [16,  1, 14, 13, 24,  6,  8, 21, 18, 17, 25,  7,  3,  4, 19, 23,\n",
       "        15, 22, 10,  9,  5, 20,  2, 11, 12],\n",
       "       [19, 18,  3,  5, 15,  2, 13, 11, 10,  1, 17,  9, 23, 21, 16, 24,\n",
       "         7,  4, 12, 20, 25,  6, 22,  8, 14],\n",
       "       [21, 11,  2, 20,  4,  3,  9, 22,  7, 19, 18, 24,  8,  6, 12, 25,\n",
       "         5, 17, 16, 14, 10, 15, 13,  1, 23],\n",
       "       [ 6, 25, 17,  9, 22, 12, 24, 23, 20,  4, 15, 13,  5, 14, 10,  2,\n",
       "        21,  8,  1, 11,  3, 16,  7, 19, 18],\n",
       "       [10,  7, 23,  8, 12,  5, 14, 15, 16, 25, 11, 20,  1, 22,  2, 18,\n",
       "         6, 19,  3, 13, 24, 21,  4,  9, 17],\n",
       "       [12, 10, 11,  2, 18, 19, 25, 13, 14, 22,  6,  4, 15,  7,  1,  8,\n",
       "        24,  5,  9, 16, 17, 23, 21, 20,  3],\n",
       "       [22, 24, 16, 23,  9, 15,  4, 17,  3,  6,  2, 12, 11, 10, 20,  1,\n",
       "        25,  7, 14, 21, 13, 19, 18,  5,  8],\n",
       "       [20,  3,  7, 14,  5, 11, 16,  2, 23,  9,  8, 18, 21, 25, 13, 10,\n",
       "        17, 15,  6, 19,  4, 24,  1, 12, 22],\n",
       "       [17, 19,  1, 25,  8, 10,  7,  5, 21, 18, 16, 22, 24, 23,  3, 13,\n",
       "        12,  2, 20,  4, 14, 11,  9,  6, 15],\n",
       "       [ 4, 21,  6, 15, 13, 20,  1, 24, 12,  8, 19, 17, 14,  5,  9,  3,\n",
       "        18, 11, 22, 23, 16, 10, 25,  2,  7],\n",
       "       [ 3, 22,  4, 16, 20, 18,  5, 19,  8, 14, 12, 23, 17, 24,  7, 11,\n",
       "        10, 21, 25, 15,  1,  2,  6, 13,  9],\n",
       "       [ 1,  2, 10, 12, 23, 16, 20,  9, 11, 21,  5, 14,  6, 18, 25, 17,\n",
       "         3, 13, 24,  8, 19, 22, 15,  7,  4],\n",
       "       [ 8, 14, 24, 18,  6, 23, 15,  3, 25,  2,  1, 11, 19, 13, 21, 22,\n",
       "        16,  9,  4,  7, 20, 12,  5, 17, 10],\n",
       "       [ 9, 15, 19, 17, 21, 22, 12,  4, 13,  7, 20,  3, 10, 16,  8,  5,\n",
       "        14,  6,  2,  1, 18, 25, 23, 24, 11],\n",
       "       [13,  5, 25, 11,  7,  1,  6, 10, 17, 24, 22,  2,  4,  9, 15, 20,\n",
       "        23, 18, 19, 12,  8,  3, 14, 16, 21]])"
      ]
     },
     "execution_count": 293,
     "metadata": {},
     "output_type": "execute_result"
    }
   ],
   "source": [
    "%%time\n",
    "creategrid(5)"
   ]
  },
  {
   "cell_type": "code",
   "execution_count": 296,
   "metadata": {},
   "outputs": [
    {
     "data": {
      "text/plain": [
       "115792089237316195423570985008687907853269984665640564039457584007913129639936"
      ]
     },
     "execution_count": 296,
     "metadata": {},
     "output_type": "execute_result"
    }
   ],
   "source": [
    "4**(128)"
   ]
  },
  {
   "cell_type": "code",
   "execution_count": 297,
   "metadata": {},
   "outputs": [
    {
     "data": {
      "text/plain": [
       "46816763546921983271558494138586765699150233387941833163371554538603832766739996494866350975392646334430537906314200196391753374199149312046122692338075289270907454151724452290906351194232914991744110011495649814605712890625"
      ]
     },
     "execution_count": 297,
     "metadata": {},
     "output_type": "execute_result"
    }
   ],
   "source": [
    "5**(320)"
   ]
  },
  {
   "cell_type": "code",
   "execution_count": null,
   "metadata": {},
   "outputs": [],
   "source": []
  }
 ],
 "metadata": {
  "kernelspec": {
   "display_name": "Python 3",
   "language": "python",
   "name": "python3"
  },
  "language_info": {
   "codemirror_mode": {
    "name": "ipython",
    "version": 3
   },
   "file_extension": ".py",
   "mimetype": "text/x-python",
   "name": "python",
   "nbconvert_exporter": "python",
   "pygments_lexer": "ipython3",
   "version": "3.6.5"
  }
 },
 "nbformat": 4,
 "nbformat_minor": 2
}
